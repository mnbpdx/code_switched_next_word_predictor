{
  "nbformat": 4,
  "nbformat_minor": 0,
  "metadata": {
    "colab": {
      "provenance": [],
      "authorship_tag": "ABX9TyMEV1u0002Vj5zYrSOO/61t",
      "include_colab_link": true
    },
    "kernelspec": {
      "name": "python3",
      "display_name": "Python 3"
    },
    "language_info": {
      "name": "python"
    }
  },
  "cells": [
    {
      "cell_type": "markdown",
      "metadata": {
        "id": "view-in-github",
        "colab_type": "text"
      },
      "source": [
        "<a href=\"https://colab.research.google.com/github/mnbpdx/code_switched_next_word_predictor/blob/main/synonym_pipeline.ipynb\" target=\"_parent\"><img src=\"https://colab.research.google.com/assets/colab-badge.svg\" alt=\"Open In Colab\"/></a>"
      ]
    },
    {
      "cell_type": "markdown",
      "source": [
        "# Steps, from [Refined Project Proposal](https://docs.google.com/document/d/1NRUdfsiXkgPQW7Mg-CSVs8FDzghQjYWcvZ9JPUFfLW4/edit?usp=sharing)\n",
        "\n",
        "1. Pass the predicted next word to a pre-trained language recognition model to **determine the language** of the word (one of the two languages in our mixed, code-switched corpus.)\n",
        "2. **Translate** the predicted next word into the other language by passing it into an appropriate translation model.\n",
        "3. **Get n synonyms** of predicted next word in both languages using cosine distance between word embeddings, gathered from two vector embedding models, one in each language. This could also be done by a GPT-3 model.\n",
        "4. **Score the model** based on whether or not the actual next word is in the list of predicted next word bilingual synonyms.\n"
      ],
      "metadata": {
        "id": "leY02gxZwIZw"
      }
    },
    {
      "cell_type": "markdown",
      "source": [
        "# Full Synonym Pipeline"
      ],
      "metadata": {
        "id": "QR8zDeBpu6vy"
      }
    },
    {
      "cell_type": "markdown",
      "source": [
        "## Imports/Downloads"
      ],
      "metadata": {
        "id": "vSoAcqdvvZjf"
      }
    },
    {
      "cell_type": "code",
      "source": [
        "!pip install -U easynmt\n",
        "\n",
        "from easynmt import EasyNMT\n",
        "import nltk\n",
        "from nltk.corpus import wordnet as wn\n",
        "\n",
        "nltk.download('omw-1.4')\n",
        "nltk.download('wordnet')"
      ],
      "metadata": {
        "id": "QFXklFVVvbl0"
      },
      "execution_count": null,
      "outputs": []
    },
    {
      "cell_type": "markdown",
      "source": [
        "## Fake Data"
      ],
      "metadata": {
        "id": "_WOsNzR3viK_"
      }
    },
    {
      "cell_type": "code",
      "source": [
        "# Dummy Data\n",
        "responses = ['pizza', 'turkey', 'baño', 'book', 'manzana']\n",
        "actual =    ['whale', 'chicken', 'bathroom', 'libro', 'plátano']\n",
        "\n"
      ],
      "metadata": {
        "id": "m1BrAIG8u95-"
      },
      "execution_count": null,
      "outputs": []
    },
    {
      "cell_type": "markdown",
      "source": [
        "## Pipeline"
      ],
      "metadata": {
        "id": "IwC7UnjtvjY5"
      }
    },
    {
      "cell_type": "code",
      "source": [
        "# USAGE\n",
        "# --  POSSIBLE ISSUE -- I had 'hola' show up as 'en' just now, not sure what's up with that.\n",
        "lang = id_model.language_detection('baño') # returns a string like 'en' or 'es'. Can be used directly in translation function below.\n",
        "lang\n",
        "\n",
        "# USAGE\n",
        "# --  POSSIBLE ISSUE -- Google these warnings.\n",
        "# source_lang will be the output of language id step above, target_lang will be the OTHER language in that particular dataset.\n",
        "translated_word = translation_model.translate('baño', source_lang='es', target_lang='en') # or swap the languages for the reverse, obv. \n",
        "translated_word\n",
        "\n",
        "## USAGE\n",
        "for synonym in wn.synsets(translated_word, lang='eng'):\n",
        "   for item in synonym.lemmas('eng'):\n",
        "      if item.name() != translated_word:\n",
        "         print(item.name()) "
      ],
      "metadata": {
        "id": "IbkCiprDvx3E"
      },
      "execution_count": null,
      "outputs": []
    }
  ]
}