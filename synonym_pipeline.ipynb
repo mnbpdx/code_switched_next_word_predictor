{
  "nbformat": 4,
  "nbformat_minor": 0,
  "metadata": {
    "colab": {
      "provenance": [],
      "authorship_tag": "ABX9TyMfnI7L4ooi4qkNp9z9kFh0",
      "include_colab_link": true
    },
    "kernelspec": {
      "name": "python3",
      "display_name": "Python 3"
    },
    "language_info": {
      "name": "python"
    }
  },
  "cells": [
    {
      "cell_type": "markdown",
      "metadata": {
        "id": "view-in-github",
        "colab_type": "text"
      },
      "source": [
        "<a href=\"https://colab.research.google.com/github/mnbpdx/code_switched_next_word_predictor/blob/main/synonym_pipeline.ipynb\" target=\"_parent\"><img src=\"https://colab.research.google.com/assets/colab-badge.svg\" alt=\"Open In Colab\"/></a>"
      ]
    },
    {
      "cell_type": "markdown",
      "source": [
        "# Steps, from [Refined Project Proposal](https://docs.google.com/document/d/1NRUdfsiXkgPQW7Mg-CSVs8FDzghQjYWcvZ9JPUFfLW4/edit?usp=sharing)\n",
        "\n",
        "1. Pass the predicted next word to a pre-trained language recognition model to **determine the language** of the word (one of the two languages in our mixed, code-switched corpus.)\n",
        "2. **Translate** the predicted next word into the other language by passing it into an appropriate translation model.\n",
        "3. **Get n synonyms** of predicted next word in both languages using cosine distance between word embeddings, gathered from two vector embedding models, one in each language. This could also be done by a GPT-3 model.\n",
        "4. **Score the model** based on whether or not the actual next word is in the list of predicted next word bilingual synonyms.\n"
      ],
      "metadata": {
        "id": "leY02gxZwIZw"
      }
    },
    {
      "cell_type": "markdown",
      "source": [
        "# Full Synonym Pipeline"
      ],
      "metadata": {
        "id": "QR8zDeBpu6vy"
      }
    },
    {
      "cell_type": "markdown",
      "source": [
        "## Imports/Downloads"
      ],
      "metadata": {
        "id": "vSoAcqdvvZjf"
      }
    },
    {
      "cell_type": "code",
      "source": [
        "!pip install -U easynmt\n",
        "\n",
        "from easynmt import EasyNMT\n",
        "import nltk\n",
        "from nltk.corpus import wordnet as wn\n",
        "\n",
        "nltk.download('omw-1.4')\n",
        "nltk.download('wordnet')"
      ],
      "metadata": {
        "id": "QFXklFVVvbl0"
      },
      "execution_count": null,
      "outputs": []
    },
    {
      "cell_type": "markdown",
      "source": [
        "## Fake Data"
      ],
      "metadata": {
        "id": "_WOsNzR3viK_"
      }
    },
    {
      "cell_type": "code",
      "source": [
        "# Dummy Data\n",
        "predictions = ['pizza', 'turkey', 'baño', 'book', 'manzana']\n",
        "actual =    ['whale', 'chicken', 'bathroom', 'libro', 'plátano']"
      ],
      "metadata": {
        "id": "m1BrAIG8u95-"
      },
      "execution_count": 2,
      "outputs": []
    },
    {
      "cell_type": "markdown",
      "source": [
        "## Utility Functions"
      ],
      "metadata": {
        "id": "tUbm1Gyf4SGm"
      }
    },
    {
      "cell_type": "code",
      "source": [
        "# I think I should be raising the exceptions here and catching them in\n",
        "# the pipeline function actually, but i dont wanna waste time on that rn. \n",
        "def langs_are_valid(lang1, lang2):\n",
        "  if lang1 == lang2:\n",
        "    print('Langugages must not be the same.')\n",
        "    return False\n",
        "  \n",
        "  if lang1 != 'en' and lang1 != 'es':\n",
        "    print('Langugage must be either Spanish or English.')\n",
        "    return False\n",
        "  \n",
        "  if lang2 != 'en' and lang2 != 'es':\n",
        "    print('Langugage must be either Spanish or English.')\n",
        "    return False\n",
        "\n",
        "  return True"
      ],
      "metadata": {
        "id": "Ba-4kOKv4T6P"
      },
      "execution_count": 3,
      "outputs": []
    },
    {
      "cell_type": "markdown",
      "source": [
        "## Pipeline"
      ],
      "metadata": {
        "id": "IwC7UnjtvjY5"
      }
    },
    {
      "cell_type": "code",
      "source": [
        "# -- CITE ME -- Look at Mark's scratchpad noteboook for everything we gotta cite\n",
        "# -- POSSIBLE ISSUE -- 2x check my old comments for issues\n",
        "# -- POSSIBLE ISSUE -- -- DISCUSSION -- When I run id_model.language_detection on \"manzana\" it returns 'en'.\n",
        "# \"manzana\" IS a word in English, that means like a unit of land or something. That\n",
        "# wouldn't be a problem (hey, maybe the person speaking Spanglish here DID mean \"a unit of land\")\n",
        "# but in this case, it's SO obvious that there's another, much more common Spanish word\n",
        "# that means \"manzana\". I feel like the ID model should have caught that, by comparing\n",
        "# the frequency of the English and Spanish versions. My guess is that this model is\n",
        "# more used to translating sentences in context rather than words. We can sub it out\n",
        "# with a different language detection/identification model later then, if we notice this problem at a large scale.\n",
        "# That shouldn't be hard, there's many. I also wonder if what's happening here is that\n",
        "# the model is capable of interpreting semi-code-switched sentences and translating them.\n",
        "# It has to ID them first, so it would interpret an English sentence with a few Spanish words\n",
        "# as \"English\", then do the translation step. For that to work, it'd have to have some sense\n",
        "# of \"manzana\" as an English word. IOW, could be a NN problem, or a problem of a model that\n",
        "# is intended to do translation too. Same easy solution though, just sub it out. We\n",
        "# could even sub it out with an API call to Dictionary.com or something, doesn't\n",
        "# have to be a NN model.\n",
        "# Okay now I'm getting different languages detected than English or Spanish. Which\n",
        "# is a tougher problem to solve. We can switch out the model, but idk if I'm gonna\n",
        "# be able to find a model that allows us to specify: \"Only return one of these\n",
        "# two languages\". The big question is, what do we when our detection model returns\n",
        "# null, or returns an unknown language? Throw out the prediction from the score?\n",
        "\n",
        "\n",
        "# Right now, this function only ACTUALLY works for Spanish and English, gotta\n",
        "# figure out how to convert from the EasyNMT language strings to the WordNet\n",
        "# strings. Or I could just hack it. I'm not 100% sure yet that WN works for \n",
        "# Mandarin anyway, which would be an issue.\n",
        "def full_synonym_pipeline_rename_me(predictions, actual, lang1, lang2):\n",
        "  if not langs_are_valid(lang1, lang2):\n",
        "    raise Exception('Please use valid EasyNMT language strings.') # idk how to use exceptions in python, someone tell me if this is wrong\n",
        "\n",
        "  id_model = EasyNMT('opus-mt')\n",
        "  translation_model = EasyNMT('opus-mt')\n",
        "\n",
        "  for word in predictions:\n",
        "\n",
        "    # Determine the language of word\n",
        "    detected_lang = id_model.language_detection(word)\n",
        "    if (detected_lang == lang1):\n",
        "      other_lang = lang2\n",
        "    elif (detected_lang == lang2): \n",
        "      other_lang = lang1\n",
        "    else:\n",
        "      print('EasyNMT detected a language other than lang1 or lang2. Detected Language -> ' + detected_lang)\n",
        "      raise Exception\n",
        "    print(word)\n",
        "    print(detected_lang)\n",
        "\n",
        "    # Translate word into the OTHER language\n",
        "    translated_word = translation_model.translate(word, source_lang=detected_lang, target_lang=other_lang) # or swap the languages for the reverse, obv. \n",
        "    print(translated_word)\n",
        "\n",
        "\n",
        "    if (detected_lang == 'en'): # need to update this step to make this function generic with respect to languages\n",
        "      detected_lang = 'eng'\n",
        "      other_lang = 'spa'\n",
        "    else:\n",
        "      detected_lang = 'spa'\n",
        "      other_lang = 'eng'\n",
        "\n",
        "    print(\"ORIGINAL WORD SYNONYMS\")\n",
        "\n",
        "    # -- POSSIBLE ISSUE -- Should limit the number of words probably, right now there's roughly 0 - 20 for each.\n",
        "    # Get synonym lists for word and translated_word\n",
        "    for synonym in wn.synsets(word, lang=detected_lang):\n",
        "      for item in synonym.lemmas(detected_lang):\n",
        "          if item.name() != word:\n",
        "            print(item.name())\n",
        "\n",
        "    print(\"TRANSLATED WORD SYNONYMS\")\n",
        "\n",
        "    for synonym in wn.synsets(translated_word, lang=other_lang):\n",
        "      for item in synonym.lemmas(other_lang):\n",
        "          if item.name() != translated_word:\n",
        "            print(item.name())\n",
        "\n",
        "\n",
        "    print()\n",
        "\n",
        "  # Compare synonym lists to actual\n",
        "\n",
        "  return"
      ],
      "metadata": {
        "id": "IbkCiprDvx3E"
      },
      "execution_count": 23,
      "outputs": []
    },
    {
      "cell_type": "code",
      "source": [
        "full_synonym_pipeline_rename_me(predictions, actual, 'en', 'es')"
      ],
      "metadata": {
        "colab": {
          "base_uri": "https://localhost:8080/"
        },
        "id": "2EQctYCU8YXy",
        "outputId": "59d16160-65e6-476b-f4db-8e84d19993b0"
      },
      "execution_count": 24,
      "outputs": [
        {
          "output_type": "stream",
          "name": "stdout",
          "text": [
            "pizza\n",
            "en\n",
            "Pizza\n",
            "ORIGINAL WORD SYNONYMS\n",
            "pizza_pie\n",
            "TRANSLATED WORD SYNONYMS\n",
            "\n",
            "turkey\n",
            "en\n",
            "pavo\n",
            "ORIGINAL WORD SYNONYMS\n",
            "Meleagris_gallopavo\n",
            "Turkey\n",
            "Republic_of_Turkey\n",
            "joker\n",
            "bomb\n",
            "dud\n",
            "TRANSLATED WORD SYNONYMS\n",
            "Pavo\n",
            "género_Pavo\n",
            "Pavo\n",
            "\n",
            "baño\n",
            "es\n",
            "bathroom\n",
            "ORIGINAL WORD SYNONYMS\n",
            "aplicación\n",
            "capa\n",
            "cobertura\n",
            "mano\n",
            "revestimiento\n",
            "bañera\n",
            "capa\n",
            "mano\n",
            "recubrimiento\n",
            "inodoro\n",
            "TRANSLATED WORD SYNONYMS\n",
            "bath\n",
            "toilet\n",
            "lavatory\n",
            "lav\n",
            "can\n",
            "john\n",
            "privy\n",
            "\n",
            "book\n",
            "en\n",
            "libro\n",
            "ORIGINAL WORD SYNONYMS\n",
            "volume\n",
            "record\n",
            "record_book\n",
            "script\n",
            "playscript\n",
            "ledger\n",
            "leger\n",
            "account_book\n",
            "book_of_account\n",
            "rule_book\n",
            "Koran\n",
            "Quran\n",
            "al-Qur'an\n",
            "Book\n",
            "Bible\n",
            "Christian_Bible\n",
            "Book\n",
            "Good_Book\n",
            "Holy_Scripture\n",
            "Holy_Writ\n",
            "Scripture\n",
            "Word_of_God\n",
            "Word\n",
            "reserve\n",
            "hold\n",
            "TRANSLATED WORD SYNONYMS\n",
            "ejemplar\n",
            "volumen\n",
            "Biblia\n",
            "Biblia_cristiana\n",
            "Libro\n",
            "biblia\n",
            "el_buen_libro\n",
            "la_palabra\n",
            "las_escrituras\n",
            "las_sagradas_escrituras\n",
            "libro_mayor\n",
            "\n",
            "manzana\n",
            "en\n",
            "Manzana\n",
            "ORIGINAL WORD SYNONYMS\n",
            "TRANSLATED WORD SYNONYMS\n",
            "manzana\n",
            "manzana\n",
            "\n"
          ]
        }
      ]
    }
  ]
}